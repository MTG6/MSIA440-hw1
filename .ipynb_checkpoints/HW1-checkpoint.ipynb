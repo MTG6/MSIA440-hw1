{
 "cells": [
  {
   "cell_type": "markdown",
   "metadata": {},
   "source": [
    "# Homework 1\n",
    "## Matt Gallagher"
   ]
  },
  {
   "cell_type": "code",
   "execution_count": 2,
   "metadata": {
    "collapsed": true
   },
   "outputs": [],
   "source": [
    "from pulp import *"
   ]
  },
  {
   "cell_type": "markdown",
   "metadata": {},
   "source": [
    "## Question 2\n",
    "\n",
    "Formulate and solve the “Two Products – Three Machine” problem from Class #1 as a linear program.  Also, how would you set up this model so you could scale it?  That is, how would you structure it if you had a lot of machines and a lot of products?"
   ]
  },
  {
   "cell_type": "code",
   "execution_count": 4,
   "metadata": {},
   "outputs": [
    {
     "name": "stdout",
     "output_type": "stream",
     "text": [
      "Status: Optimal\n",
      "Prods_A = 75.0\n",
      "Prods_B = 124.0\n",
      "Total Revenue of Plan =  87330.0\n",
      "M1 -186.0\n",
      "M1 -336\n",
      "M2 -88.0\n",
      "M2 -336\n",
      "M3 0.0\n",
      "M3 -336.0\n",
      "None 0.0\n",
      "None -75\n",
      "None -65.0\n",
      "None -140\n",
      "None -16.0\n",
      "None -140\n"
     ]
    }
   ],
   "source": [
    "#Create a list of all the products\n",
    "Products = [\"A\",\"B\"]\n",
    "\n",
    "#Create a dictionary of the prices for products\n",
    "Prices = {\"A\": 470,\n",
    "         \"B\":420}\n",
    "\n",
    "#Create a list of all the raw materials\n",
    "RawMaterials = [\"M1\",\"M2\",\"M3\"]\n",
    "\n",
    "#Create a Dictionary of Amount of each Raw Material Available\n",
    "RawAvailability = {\"M1\": 336,\n",
    "                  \"M2\": 336,\n",
    "                  \"M3\": 336}\n",
    "\n",
    "#Create a list for amount used of each raw material for each product\n",
    "AmountUsed = {\"A\": {\"M1\": 2, \"M2\": 0, \"M3\": 2},\n",
    "              \"B\":{\"M1\": 0, \"M2\": 2, \"M3\": 1.5}\n",
    "             }\n",
    "\n",
    "# Create the 'prob' variable to contain the problem data\n",
    "prob = LpProblem(\"Three Machines\",LpMaximize)\n",
    "\n",
    "# Create the Variables\n",
    "product_vars = LpVariable.dicts(\"Prods\",Products,lowBound=0,upBound=None,cat=LpContinuous)\n",
    "\n",
    "# The objective function is added to 'prob' first\n",
    "prob += lpSum([Prices[i]*product_vars[i] for i in Products]), \"Total Revenue of Production Plan\"\n",
    "\n",
    "# We can enter the constraints that relate to limited amount of material\n",
    "for r in RawMaterials:\n",
    "    prob += lpSum([product_vars[i]*AmountUsed[i][r] for i in Products]) <= RawAvailability[r] , r\n",
    "\n",
    "# Additional constraints\n",
    "prob += product_vars[\"A\"] >= 75\n",
    "prob += product_vars[\"A\"] <= 140\n",
    "prob += product_vars[\"B\"] <= 140\n",
    "\n",
    "# The problem data is written to an .lp file\n",
    "prob.writeLP(\"3Mach.lp\")\n",
    "\n",
    "# The problem is solved using PuLP's choice of Solver\n",
    "prob.solve()\n",
    "\n",
    "# The status of the solution is printed to the screen\n",
    "print(\"Status:\", LpStatus[prob.status])\n",
    "\n",
    "# Each of the variables is printed with it's resolved optimum value\n",
    "for v in prob.variables():\n",
    "    print(v.name, \"=\", v.varValue)\n",
    "    \n",
    "# The optimised objective function value is printed to the screen\n",
    "print(\"Total Revenue of Plan = \", value(prob.objective))\n",
    "\n",
    "for constraint in prob.constraints:\n",
    "        # print(prob.constraints[constraint].name, prob.constraints[constraint].value() - prob.constraints[constraint].constant)\n",
    "        print(prob.constraints[constraint].name, prob.constraints[constraint].value())\n",
    "        print(prob.constraints[constraint].name, prob.constraints[constraint].constant)"
   ]
  },
  {
   "cell_type": "markdown",
   "metadata": {
    "collapsed": true
   },
   "source": [
    "## Question 3\n",
    "\n",
    "Your non-vegetarian friend wants to determine how many units of different kinds of meat he should eat to get the right amounts of vitamins A, C, B1, and B2 over the week.  He also wants to minimize his cost.  What should his diet be?  How would you modify the linear program to make it “better?”  You can find the cost for each unit of food and the percent of daily requirements for each vitamin type in the spreadsheet. "
   ]
  },
  {
   "cell_type": "code",
   "execution_count": 3,
   "metadata": {},
   "outputs": [
    {
     "name": "stdout",
     "output_type": "stream",
     "text": [
      "Status: Optimal\n",
      "Meats_Beef = 0.0\n",
      "Meats_Chicken = 2.5\n",
      "Meats_Fish = 0.0\n",
      "Meats_Ham = 0.0\n",
      "Meats_MeatLoaf = 3.3333333\n",
      "Meats_Turkey = 0.0\n",
      "Total Cost of Plan =  14.374999925000001\n",
      "A 1.53333331\n",
      "A -1.0\n",
      "C -1.0000000050247593e-08\n",
      "C -1.0\n",
      "B1 -5.000000025123796e-09\n",
      "B1 -1.0\n",
      "B2 -5.000000025123796e-09\n",
      "B2 -1.0\n"
     ]
    }
   ],
   "source": [
    "#Create a list of all the meats\n",
    "Meats = [\"Beef\",\"Chicken\",\"Fish\",\"Ham\",\"MeatLoaf\",\"Turkey\"]\n",
    "\n",
    "#Create a dictionary of the prices for the meats\n",
    "Prices = {\"Beef\": 4.16,\n",
    "         \"Chicken\":2.75,\n",
    "         \"Fish\": 3.28,\n",
    "         \"Ham\": 2.91,\n",
    "         \"MeatLoaf\": 2.25,\n",
    "         \"Turkey\": 2.45}\n",
    "\n",
    "#Create a list of all the vitamins\n",
    "Vitamins = [\"A\",\"C\",\"B1\",\"B2\"]\n",
    "\n",
    "#Create a list for amount used of each raw material for each product\n",
    "AmountSupplied = {\"Beef\": {\"A\": .6, \"C\": .2, \"B1\": .1, \"B2\": .15},\n",
    "              \"Chicken\":{\"A\": .08, \"C\": 0, \"B1\": .2, \"B2\": .2},\n",
    "              \"Fish\": {\"A\": .08, \"C\": .1, \"B1\": .15, \"B2\": .1},\n",
    "              \"Ham\": {\"A\": .4, \"C\": .4, \"B1\": .35, \"B2\": .1},\n",
    "              \"MeatLoaf\": {\"A\": .7, \"C\": .3, \"B1\": .15, \"B2\": .15},\n",
    "              \"Turkey\": {\"A\": .6, \"C\": .2, \"B1\": .15, \"B2\": .1}\n",
    "             }\n",
    "\n",
    "# Create the 'prob' variable to contain the problem data\n",
    "prob = LpProblem(\"Meats\",LpMinimize)\n",
    "\n",
    "# Create the Variables\n",
    "product_vars = LpVariable.dicts(\"Meats\",Meats,lowBound=0,upBound=None,cat=LpContinuous)\n",
    "\n",
    "# The objective function is added to 'prob' first\n",
    "prob += lpSum([Prices[i]*product_vars[i] for i in Meats]), \"Total Cost of Meat Plan\"\n",
    "\n",
    "# We can enter the constraints that relate to limited amount of material\n",
    "for r in Vitamins:\n",
    "    prob += lpSum([product_vars[i]*AmountSupplied[i][r] for i in Meats]) >= 1 , r\n",
    "\n",
    "\n",
    "# The problem data is written to an .lp file\n",
    "prob.writeLP(\"Meats.lp\")\n",
    "\n",
    "# The problem is solved using PuLP's choice of Solver\n",
    "prob.solve()\n",
    "\n",
    "# The status of the solution is printed to the screen\n",
    "print(\"Status:\", LpStatus[prob.status])\n",
    "\n",
    "# Each of the variables is printed with it's resolved optimum value\n",
    "for v in prob.variables():\n",
    "    print(v.name, \"=\", v.varValue)\n",
    "    \n",
    "# The optimised objective function value is printed to the screen\n",
    "print(\"Total Cost of Plan = \", value(prob.objective))\n",
    "\n",
    "for constraint in prob.constraints:\n",
    "        # print(prob.constraints[constraint].name, prob.constraints[constraint].value() - prob.constraints[constraint].constant)\n",
    "        print(prob.constraints[constraint].name, prob.constraints[constraint].value())\n",
    "        print(prob.constraints[constraint].name, prob.constraints[constraint].constant)"
   ]
  },
  {
   "cell_type": "markdown",
   "metadata": {},
   "source": [
    "## Question 4\n",
    "Solve the gas blending problem introduced in class. That is, determine how much of each type of gas you should buy and what you should use it for.  Make sure you can explain the full model and especially the blending constraints."
   ]
  },
  {
   "cell_type": "code",
   "execution_count": null,
   "metadata": {
    "collapsed": true
   },
   "outputs": [],
   "source": []
  },
  {
   "cell_type": "markdown",
   "metadata": {},
   "source": [
    "## Question 5\n",
    "Solve the nurse scheduling problem introduced in class.  You want to know the minimum number of nurses needed to cover the 24-hour period.  You can assume that the next day is the same as this one."
   ]
  },
  {
   "cell_type": "code",
   "execution_count": 39,
   "metadata": {},
   "outputs": [
    {
     "name": "stdout",
     "output_type": "stream",
     "text": [
      "Status: Optimal\n",
      "Slots_a12_4 = 4.0\n",
      "Slots_a4_8 = 10.0\n",
      "Slots_a8_12 = 0.0\n",
      "Slots_p12_4 = 8.0\n",
      "Slots_p4_8 = 4.0\n",
      "Slots_p8_12 = 0.0\n",
      "Total Nurses Used =  26.0\n",
      "a12_4 6.0\n",
      "a12_4 -8\n",
      "a4_8 0.0\n",
      "a4_8 -10\n",
      "a8_12 1.0\n",
      "a8_12 -7\n",
      "p12_4 0.0\n",
      "p12_4 -12\n",
      "p4_8 0.0\n",
      "p4_8 -4\n",
      "Start_must_be_4 0.0\n",
      "Start_must_be_4 -4\n"
     ]
    }
   ],
   "source": [
    "#Create a list of all the shifts\n",
    "Slots = [\"a12-4\",\"a4-8\",\"a8-12\",\"p12-4\",\"p4-8\",\"p8-12\"]\n",
    "\n",
    "#Create a dictionary of required staffing for each slot\n",
    "Staff_reqs = {\"a12-4\": 4,\n",
    "         \"a4-8\":8,\n",
    "         \"a8-12\": 10,\n",
    "         \"p12-4\": 7,\n",
    "         \"p4-8\": 12,\n",
    "         \"p8-12\": 4}\n",
    "\n",
    "# Create the 'prob' variable to contain the problem data\n",
    "prob = LpProblem(\"Nurses\",LpMinimize)\n",
    "\n",
    "# Create the Variables , aka nursing slots\n",
    "product_vars = LpVariable.dicts(\"Slots\",Slots,lowBound=0,upBound=None,cat=LpContinuous)\n",
    "\n",
    "# The objective function is added to 'prob' first\n",
    "prob += lpSum([product_vars[i] for i in Slots]), \"Total Staffing of Nursing Slots\"\n",
    "\n",
    "# Constraints\n",
    "# Each slot requirement must be filled by those starting that shift, and the shift before\n",
    "i=0\n",
    "while i < len(Slots)-1:\n",
    "    prob += lpSum(product_vars[Slots[i]] + product_vars[Slots[i+1]]) >= Staff_reqs[Slots[i+1]] , Slots[i]\n",
    "    i=i+1\n",
    "\n",
    "# The first slot must be adequatelly filled\n",
    "prob += product_vars[Slots[0]] >= 4 , \"Start must be 4\"\n",
    "\n",
    "# The problem data is written to an .lp file\n",
    "prob.writeLP(\"Nurses.lp\")\n",
    "\n",
    "# The problem is solved using PuLP's choice of Solver\n",
    "prob.solve()\n",
    "\n",
    "# The status of the solution is printed to the screen\n",
    "print(\"Status:\", LpStatus[prob.status])\n",
    "\n",
    "# Each of the variables is printed with it's resolved optimum value\n",
    "for v in prob.variables():\n",
    "    print(v.name, \"=\", v.varValue)\n",
    "    \n",
    "# The optimised objective function value is printed to the screen\n",
    "print(\"Total Nurses Used = \", value(prob.objective))\n",
    "\n",
    "for constraint in prob.constraints:\n",
    "        # print(prob.constraints[constraint].name, prob.constraints[constraint].value() - prob.constraints[constraint].constant)\n",
    "        print(prob.constraints[constraint].name, prob.constraints[constraint].value())\n",
    "        print(prob.constraints[constraint].name, prob.constraints[constraint].constant)"
   ]
  },
  {
   "attachments": {
    "image.png": {
     "image/png": "[encoded data removed]"
    }
   },
   "cell_type": "markdown",
   "metadata": {},
   "source": [
    "## Question 6\n",
    "\n",
    "![image.png](attachment:image.png)"
   ]
  },
  {
   "cell_type": "code",
   "execution_count": 11,
   "metadata": {},
   "outputs": [
    {
     "name": "stdout",
     "output_type": "stream",
     "text": [
      "Status: Optimal\n",
      "Cuts_5_5_5_5 = 12.5\n",
      "Cuts_5_5_7 = 0.0\n",
      "Cuts_5_5_9 = 0.0\n",
      "Cuts_5_7_7 = 100.0\n",
      "Cuts_7_9 = 0.0\n",
      "Cuts_9_9 = 150.0\n",
      "Total Rolls Used =  262.5\n",
      "5 0.0\n",
      "5 -150\n",
      "7 0.0\n",
      "7 -200\n",
      "9 0.0\n",
      "9 -300\n"
     ]
    }
   ],
   "source": [
    "#Create a list of all the widths\n",
    "Cuts = [\"5-5-5-5\",\"9-9\",\"5-5-9\",\"5-7-7\",\"7-9\",\"5-5-7\"]\n",
    "\n",
    "#Create a dictionary of width demand\n",
    "Demand = {\"5\":150,\n",
    "        \"7\":200,\n",
    "         \"9\":300}\n",
    "\n",
    "# Create the 'prob' variable to contain the problem data\n",
    "prob = LpProblem(\"Nurses\",LpMinimize)\n",
    "\n",
    "# Create the Variables , aka cut types\n",
    "product_vars = LpVariable.dicts(\"Cuts\",Cuts,lowBound=0,upBound=None,cat=LpContinuous)\n",
    "\n",
    "# The objective function is added to 'prob' first\n",
    "# We are summing up all roll cut options\n",
    "prob += lpSum([product_vars[i] for i in Cuts]), \"Total Rolls Used\"\n",
    "\n",
    "# Constraints\n",
    "# For each cut length, it can come from 3 different rolls. Make sure demand is met by adding roll options\n",
    "prob += lpSum(product_vars[\"5-5-5-5\"]*4 + product_vars[\"5-5-9\"]*2 + product_vars[\"5-7-7\"] + product_vars[\"5-5-7\"]*2) >= Demand[\"5\"] , \"5\"\n",
    "prob += lpSum(product_vars[\"5-7-7\"]*2 + product_vars[\"7-9\"] + product_vars[\"5-5-7\"]) >= Demand[\"7\"] , \"7\"\n",
    "prob += lpSum(product_vars[\"9-9\"]*2 + product_vars[\"7-9\"] + product_vars[\"5-5-9\"]) >= Demand[\"9\"] , \"9\"\n",
    "\n",
    "# The problem data is written to an .lp file\n",
    "prob.writeLP(\"Cuts.lp\")\n",
    "\n",
    "# The problem is solved using PuLP's choice of Solver\n",
    "prob.solve()\n",
    "\n",
    "# The status of the solution is printed to the screen\n",
    "print(\"Status:\", LpStatus[prob.status])\n",
    "\n",
    "# Each of the variables is printed with it's resolved optimum value\n",
    "for v in prob.variables():\n",
    "    print(v.name, \"=\", v.varValue)\n",
    "    \n",
    "# The optimised objective function value is printed to the screen\n",
    "print(\"Total Rolls Used = \", value(prob.objective))\n",
    "\n",
    "for constraint in prob.constraints:\n",
    "        # print(prob.constraints[constraint].name, prob.constraints[constraint].value() - prob.constraints[constraint].constant)\n",
    "        print(prob.constraints[constraint].name, prob.constraints[constraint].value())\n",
    "        print(prob.constraints[constraint].name, prob.constraints[constraint].constant)"
   ]
  },
  {
   "cell_type": "code",
   "execution_count": null,
   "metadata": {
    "collapsed": true
   },
   "outputs": [],
   "source": []
  },
  {
   "cell_type": "code",
   "execution_count": null,
   "metadata": {},
   "outputs": [],
   "source": []
  },
  {
   "cell_type": "code",
   "execution_count": null,
   "metadata": {
    "collapsed": true
   },
   "outputs": [],
   "source": []
  }
 ],
 "metadata": {
  "kernelspec": {
   "display_name": "Python 3",
   "language": "python",
   "name": "python3"
  },
  "language_info": {
   "codemirror_mode": {
    "name": "ipython",
    "version": 3
   },
   "file_extension": ".py",
   "mimetype": "text/x-python",
   "name": "python",
   "nbconvert_exporter": "python",
   "pygments_lexer": "ipython3",
   "version": "3.6.1"
  }
 },
 "nbformat": 4,
 "nbformat_minor": 2
}
