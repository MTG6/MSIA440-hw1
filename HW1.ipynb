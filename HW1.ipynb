{
 "cells": [
  {
   "cell_type": "markdown",
   "metadata": {},
   "source": [
    "# Homework 1\n",
    "## Matt Gallagher"
   ]
  },
  {
   "cell_type": "markdown",
   "metadata": {},
   "source": [
    "## Questions 1"
   ]
  },
  {
   "cell_type": "markdown",
   "metadata": {},
   "source": [
    "#### Answer: c d\n",
    "a:\t  Is a linear relation, but Z does not have a bound, there won’t be an optimal solution."
   ]
  },
  {
   "cell_type": "markdown",
   "metadata": {},
   "source": [
    "c, d:\t Is a linear relation."
   ]
  },
  {
   "cell_type": "markdown",
   "metadata": {},
   "source": [
    "b, e, f:\t Not a linear relation."
   ]
  },
  {
   "cell_type": "code",
   "execution_count": 6,
   "metadata": {},
   "outputs": [],
   "source": [
    "from pulp import *"
   ]
  },
  {
   "cell_type": "markdown",
   "metadata": {},
   "source": [
    "## Question 2\n",
    "\n",
    "Formulate and solve the “Two Products – Three Machine” problem from Class #1 as a linear program.  Also, how would you set up this model so you could scale it?  That is, how would you structure it if you had a lot of machines and a lot of products?"
   ]
  },
  {
   "cell_type": "code",
   "execution_count": 7,
   "metadata": {},
   "outputs": [
    {
     "name": "stdout",
     "output_type": "stream",
     "text": [
      "Status: Optimal\n",
      "Prods_A = 75.0\n",
      "Prods_B = 124.0\n",
      "Total Revenue of Plan =  87330.0\n",
      "M1 -186.0\n",
      "M1 -336\n",
      "M2 -88.0\n",
      "M2 -336\n",
      "M3 0.0\n",
      "M3 -336.0\n",
      "None 0.0\n",
      "None -75\n",
      "None -65.0\n",
      "None -140\n",
      "None -16.0\n",
      "None -140\n"
     ]
    }
   ],
   "source": [
    "#Create a list of all the products\n",
    "Products = [\"A\",\"B\"]\n",
    "\n",
    "#Create a dictionary of the prices for products\n",
    "Prices = {\"A\": 470,\n",
    "         \"B\":420}\n",
    "\n",
    "#Create a list of all the raw materials\n",
    "RawMaterials = [\"M1\",\"M2\",\"M3\"]\n",
    "\n",
    "#Create a Dictionary of Amount of each Raw Material Available\n",
    "RawAvailability = {\"M1\": 336,\n",
    "                  \"M2\": 336,\n",
    "                  \"M3\": 336}\n",
    "\n",
    "#Create a list for amount used of each raw material for each product\n",
    "AmountUsed = {\"A\": {\"M1\": 2, \"M2\": 0, \"M3\": 2},\n",
    "              \"B\":{\"M1\": 0, \"M2\": 2, \"M3\": 1.5}\n",
    "             }\n",
    "\n",
    "# Create the 'prob' variable to contain the problem data\n",
    "prob = LpProblem(\"Three Machines\",LpMaximize)\n",
    "\n",
    "# Create the Variables\n",
    "product_vars = LpVariable.dicts(\"Prods\",Products,lowBound=0,upBound=None,cat=LpContinuous)\n",
    "\n",
    "# The objective function is added to 'prob' first\n",
    "prob += lpSum([Prices[i]*product_vars[i] for i in Products]), \"Total Revenue of Production Plan\"\n",
    "\n",
    "# We can enter the constraints that relate to limited amount of material\n",
    "for r in RawMaterials:\n",
    "    prob += lpSum([product_vars[i]*AmountUsed[i][r] for i in Products]) <= RawAvailability[r] , r\n",
    "\n",
    "# Additional constraints\n",
    "prob += product_vars[\"A\"] >= 75\n",
    "prob += product_vars[\"A\"] <= 140\n",
    "prob += product_vars[\"B\"] <= 140\n",
    "\n",
    "# The problem data is written to an .lp file\n",
    "prob.writeLP(\"3Mach.lp\")\n",
    "\n",
    "# The problem is solved using PuLP's choice of Solver\n",
    "prob.solve()\n",
    "\n",
    "# The status of the solution is printed to the screen\n",
    "print(\"Status:\", LpStatus[prob.status])\n",
    "\n",
    "# Each of the variables is printed with it's resolved optimum value\n",
    "for v in prob.variables():\n",
    "    print(v.name, \"=\", v.varValue)\n",
    "    \n",
    "# The optimised objective function value is printed to the screen\n",
    "print(\"Total Revenue of Plan = \", value(prob.objective))\n",
    "\n",
    "for constraint in prob.constraints:\n",
    "        # print(prob.constraints[constraint].name, prob.constraints[constraint].value() - prob.constraints[constraint].constant)\n",
    "        print(prob.constraints[constraint].name, prob.constraints[constraint].value())\n",
    "        print(prob.constraints[constraint].name, prob.constraints[constraint].constant)"
   ]
  },
  {
   "cell_type": "markdown",
   "metadata": {
    "collapsed": true
   },
   "source": [
    "## Question 3\n",
    "\n",
    "Your non-vegetarian friend wants to determine how many units of different kinds of meat he should eat to get the right amounts of vitamins A, C, B1, and B2 over the week.  He also wants to minimize his cost.  What should his diet be?  How would you modify the linear program to make it “better?”  You can find the cost for each unit of food and the percent of daily requirements for each vitamin type in the spreadsheet. "
   ]
  },
  {
   "cell_type": "code",
   "execution_count": 8,
   "metadata": {},
   "outputs": [
    {
     "name": "stdout",
     "output_type": "stream",
     "text": [
      "Status: Optimal\n",
      "Meats_Beef = 0.0\n",
      "Meats_Chicken = 2.5\n",
      "Meats_Fish = 0.0\n",
      "Meats_Ham = 0.0\n",
      "Meats_MeatLoaf = 3.3333333\n",
      "Meats_Turkey = 0.0\n",
      "Total Cost of Plan =  14.374999925000001\n",
      "A 1.53333331\n",
      "A -1.0\n",
      "C -1.0000000050247593e-08\n",
      "C -1.0\n",
      "B1 -5.000000025123796e-09\n",
      "B1 -1.0\n",
      "B2 -5.000000025123796e-09\n",
      "B2 -1.0\n"
     ]
    }
   ],
   "source": [
    "#Create a list of all the meats\n",
    "Meats = [\"Beef\",\"Chicken\",\"Fish\",\"Ham\",\"MeatLoaf\",\"Turkey\"]\n",
    "\n",
    "#Create a dictionary of the prices for the meats\n",
    "Prices = {\"Beef\": 4.16,\n",
    "         \"Chicken\":2.75,\n",
    "         \"Fish\": 3.28,\n",
    "         \"Ham\": 2.91,\n",
    "         \"MeatLoaf\": 2.25,\n",
    "         \"Turkey\": 2.45}\n",
    "\n",
    "#Create a list of all the vitamins\n",
    "Vitamins = [\"A\",\"C\",\"B1\",\"B2\"]\n",
    "\n",
    "#Create a list for amount used of each raw material for each product\n",
    "AmountSupplied = {\"Beef\": {\"A\": .6, \"C\": .2, \"B1\": .1, \"B2\": .15},\n",
    "              \"Chicken\":{\"A\": .08, \"C\": 0, \"B1\": .2, \"B2\": .2},\n",
    "              \"Fish\": {\"A\": .08, \"C\": .1, \"B1\": .15, \"B2\": .1},\n",
    "              \"Ham\": {\"A\": .4, \"C\": .4, \"B1\": .35, \"B2\": .1},\n",
    "              \"MeatLoaf\": {\"A\": .7, \"C\": .3, \"B1\": .15, \"B2\": .15},\n",
    "              \"Turkey\": {\"A\": .6, \"C\": .2, \"B1\": .15, \"B2\": .1}\n",
    "             }\n",
    "\n",
    "# Create the 'prob' variable to contain the problem data\n",
    "prob = LpProblem(\"Meats\",LpMinimize)\n",
    "\n",
    "# Create the Variables\n",
    "product_vars = LpVariable.dicts(\"Meats\",Meats,lowBound=0,upBound=None,cat=LpContinuous)\n",
    "\n",
    "# The objective function is added to 'prob' first\n",
    "prob += lpSum([Prices[i]*product_vars[i] for i in Meats]), \"Total Cost of Meat Plan\"\n",
    "\n",
    "# We can enter the constraints that relate to limited amount of material\n",
    "for r in Vitamins:\n",
    "    prob += lpSum([product_vars[i]*AmountSupplied[i][r] for i in Meats]) >= 1 , r\n",
    "\n",
    "\n",
    "# The problem data is written to an .lp file\n",
    "prob.writeLP(\"Meats.lp\")\n",
    "\n",
    "# The problem is solved using PuLP's choice of Solver\n",
    "prob.solve()\n",
    "\n",
    "# The status of the solution is printed to the screen\n",
    "print(\"Status:\", LpStatus[prob.status])\n",
    "\n",
    "# Each of the variables is printed with it's resolved optimum value\n",
    "for v in prob.variables():\n",
    "    print(v.name, \"=\", v.varValue)\n",
    "    \n",
    "# The optimised objective function value is printed to the screen\n",
    "print(\"Total Cost of Plan = \", value(prob.objective))\n",
    "\n",
    "for constraint in prob.constraints:\n",
    "        # print(prob.constraints[constraint].name, prob.constraints[constraint].value() - prob.constraints[constraint].constant)\n",
    "        print(prob.constraints[constraint].name, prob.constraints[constraint].value())\n",
    "        print(prob.constraints[constraint].name, prob.constraints[constraint].constant)"
   ]
  },
  {
   "cell_type": "markdown",
   "metadata": {},
   "source": [
    "## Question 4\n",
    "Solve the gas blending problem introduced in class. That is, determine how much of each type of gas you should buy and what you should use it for.  Make sure you can explain the full model and especially the blending constraints."
   ]
  },
  {
   "cell_type": "code",
   "execution_count": 9,
   "metadata": {},
   "outputs": [
    {
     "name": "stdout",
     "output_type": "stream",
     "text": [
      "Status: Optimal\n",
      "Fuels_F1 = 8600.0\n",
      "Fuels_F2 = 3500.0\n",
      "Fuels_F3 = 4605.8824\n",
      "Fuels_L1 = 3744.1176\n",
      "Fuels_L2 = 0.0\n",
      "Fuels_L3 = 0.0\n",
      "Fuels_L4 = 0.0\n",
      "Fuels_R11 = 0.0\n",
      "Fuels_R12 = 0.0\n",
      "Fuels_R13 = 4300.0\n",
      "Fuels_R14 = 4300.0\n",
      "Fuels_R21 = 0.0\n",
      "Fuels_R22 = 700.0\n",
      "Fuels_R23 = 2800.0\n",
      "Fuels_R24 = 0.0\n",
      "Fuels_R31 = 255.88235\n",
      "Fuels_R32 = 4350.0\n",
      "Fuels_R33 = 0.0\n",
      "Fuels_R34 = 0.0\n",
      "Total Profit =  149398.353136\n",
      "None 0.0\n",
      "None 0\n",
      "None 0.0\n",
      "None 0\n",
      "None -5.000000055588316e-05\n",
      "None 0\n",
      "None 5.000000010113581e-05\n",
      "None 4000\n",
      "None 0.0\n",
      "None 5050\n",
      "None 0.0\n",
      "None 7100\n",
      "None 0.0\n",
      "None 4300\n",
      "None 0.0\n",
      "None 0\n",
      "None 0.0\n",
      "None 0\n",
      "None 4.999999964638846e-05\n",
      "None 0\n"
     ]
    }
   ],
   "source": [
    "#Create decision variables: blended fuel volumes, leftover raw fuels, inputs to blended fuels\n",
    "blends_and_inputs = [\"F1\",\"F2\",\"F3\",\"L1\",\"L2\",\"L3\",\"L4\",\"R11\",\"R12\",\"R13\",\n",
    "                     \"R14\",\"R21\",\"R22\",\"R23\",\"R24\",\"R31\",\"R32\",\"R33\",\"R34\"]\n",
    "\n",
    "#Create dictionary of blended fuel prices and selling price for leftover raw fuel\n",
    "blended_prices = {\"F1\":45.15,\"F2\":42.95,\"F3\":40.99, \"L1\":36.85,\"L2\":36.85,\"L3\":38.95,\"L4\":38.95}\n",
    "\n",
    "#Create cost of buying all available fuel\n",
    "cost = 4000*31.02 + 5050*33.15 + 7100*36.35 + 4300*38.7\n",
    "\n",
    "#Create problem\n",
    "prob = LpProblem(\"Fuel\",LpMaximize)\n",
    "\n",
    "#Create the variables\n",
    "fuel_vars = LpVariable.dicts(\"Fuels\",blends_and_inputs,lowBound=0,upBound=None,cat=LpContinuous)\n",
    "\n",
    "#Create objective function: all revenue\n",
    "prob += lpSum([blended_prices[i]*fuel_vars[i] for i in blended_prices]), \"Total Revenue\"\n",
    "\n",
    "#Define relationships between decision variables\n",
    "prob += fuel_vars[\"R11\"] + fuel_vars[\"R12\"] + fuel_vars[\"R13\"] + fuel_vars[\"R14\"] == fuel_vars[\"F1\"]\n",
    "prob += fuel_vars[\"R21\"] + fuel_vars[\"R22\"] + fuel_vars[\"R23\"] + fuel_vars[\"R24\"] == fuel_vars[\"F2\"]\n",
    "prob += fuel_vars[\"R31\"] + fuel_vars[\"R32\"] + fuel_vars[\"R33\"] + fuel_vars[\"R34\"] == fuel_vars[\"F3\"]\n",
    "prob += 4000 - fuel_vars[\"R11\"] - fuel_vars[\"R21\"] - fuel_vars[\"R31\"] == fuel_vars[\"L1\"]\n",
    "prob += 5050 - fuel_vars[\"R12\"] - fuel_vars[\"R22\"] - fuel_vars[\"R32\"] == fuel_vars[\"L2\"]\n",
    "prob += 7100 - fuel_vars[\"R13\"] - fuel_vars[\"R23\"] - fuel_vars[\"R33\"] == fuel_vars[\"L3\"]\n",
    "prob += 4300 - fuel_vars[\"R14\"] - fuel_vars[\"R24\"] - fuel_vars[\"R34\"] == fuel_vars[\"L4\"]\n",
    "\n",
    "#Define blended fuel octane constraints\n",
    "prob += -27*fuel_vars[\"R11\"] - 9*fuel_vars[\"R12\"] - 4*fuel_vars[\"R13\"] + 4*fuel_vars[\"R14\"] >= 0\n",
    "prob += -22*fuel_vars[\"R21\"] - 4*fuel_vars[\"R22\"] + fuel_vars[\"R23\"] + 9*fuel_vars[\"R24\"] >= 0\n",
    "prob += -17*fuel_vars[\"R31\"] + fuel_vars[\"R32\"] + 6*fuel_vars[\"R33\"] + 14*fuel_vars[\"R34\"] >= 0\n",
    "\n",
    "#The problem data is writen to a .lp file\n",
    "prob.writeLP(\"fuel.lp\")\n",
    "\n",
    "# The problem is solved using PuLP's choice of Solver\n",
    "prob.solve()\n",
    "\n",
    "# The status of the solution is printed to the screen\n",
    "print(\"Status:\", LpStatus[prob.status])\n",
    "\n",
    "\n",
    "# Each of the variables is printed with it's resolved optimum value\n",
    "for v in prob.variables():\n",
    "    print(v.name, \"=\", v.varValue)\n",
    "    \n",
    "# The optimised objective function value is printed to the screen\n",
    "print(\"Total Profit = \", value(prob.objective)-cost)\n",
    "\n",
    "for constraint in prob.constraints:\n",
    "        # print(prob.constraints[constraint].name, prob.constraints[constraint].value() - prob.constraints[constraint].constant)\n",
    "        print(prob.constraints[constraint].name, prob.constraints[constraint].value())\n",
    "        print(prob.constraints[constraint].name, prob.constraints[constraint].constant)"
   ]
  },
  {
   "cell_type": "markdown",
   "metadata": {},
   "source": [
    "## Question 5\n",
    "Solve the nurse scheduling problem introduced in class.  You want to know the minimum number of nurses needed to cover the 24-hour period.  You can assume that the next day is the same as this one."
   ]
  },
  {
   "cell_type": "code",
   "execution_count": 10,
   "metadata": {},
   "outputs": [
    {
     "name": "stdout",
     "output_type": "stream",
     "text": [
      "Status: Optimal\n",
      "Slots_a12_4 = 4.0\n",
      "Slots_a4_8 = 10.0\n",
      "Slots_a8_12 = 0.0\n",
      "Slots_p12_4 = 8.0\n",
      "Slots_p4_8 = 4.0\n",
      "Slots_p8_12 = 0.0\n",
      "Total Nurses Used =  26.0\n",
      "a12_4 6.0\n",
      "a12_4 -8\n",
      "a4_8 0.0\n",
      "a4_8 -10\n",
      "a8_12 1.0\n",
      "a8_12 -7\n",
      "p12_4 0.0\n",
      "p12_4 -12\n",
      "p4_8 0.0\n",
      "p4_8 -4\n",
      "Start_must_be_4 0.0\n",
      "Start_must_be_4 -4\n"
     ]
    }
   ],
   "source": [
    "#Create a list of all the shifts\n",
    "Slots = [\"a12-4\",\"a4-8\",\"a8-12\",\"p12-4\",\"p4-8\",\"p8-12\"]\n",
    "\n",
    "#Create a dictionary of required staffing for each slot\n",
    "Staff_reqs = {\"a12-4\": 4,\n",
    "         \"a4-8\":8,\n",
    "         \"a8-12\": 10,\n",
    "         \"p12-4\": 7,\n",
    "         \"p4-8\": 12,\n",
    "         \"p8-12\": 4}\n",
    "\n",
    "# Create the 'prob' variable to contain the problem data\n",
    "prob = LpProblem(\"Nurses\",LpMinimize)\n",
    "\n",
    "# Create the Variables , aka nursing slots\n",
    "product_vars = LpVariable.dicts(\"Slots\",Slots,lowBound=0,upBound=None,cat=LpContinuous)\n",
    "\n",
    "# The objective function is added to 'prob' first\n",
    "prob += lpSum([product_vars[i] for i in Slots]), \"Total Staffing of Nursing Slots\"\n",
    "\n",
    "# Constraints\n",
    "# Each slot requirement must be filled by those starting that shift, and the shift before\n",
    "i=0\n",
    "while i < len(Slots)-1:\n",
    "    prob += lpSum(product_vars[Slots[i]] + product_vars[Slots[i+1]]) >= Staff_reqs[Slots[i+1]] , Slots[i]\n",
    "    i=i+1\n",
    "\n",
    "# The first slot must be adequatelly filled\n",
    "prob += product_vars[Slots[0]] >= 4 , \"Start must be 4\"\n",
    "\n",
    "# The problem data is written to an .lp file\n",
    "prob.writeLP(\"Nurses.lp\")\n",
    "\n",
    "# The problem is solved using PuLP's choice of Solver\n",
    "prob.solve()\n",
    "\n",
    "# The status of the solution is printed to the screen\n",
    "print(\"Status:\", LpStatus[prob.status])\n",
    "\n",
    "# Each of the variables is printed with it's resolved optimum value\n",
    "for v in prob.variables():\n",
    "    print(v.name, \"=\", v.varValue)\n",
    "    \n",
    "# The optimised objective function value is printed to the screen\n",
    "print(\"Total Nurses Used = \", value(prob.objective))\n",
    "\n",
    "for constraint in prob.constraints:\n",
    "        # print(prob.constraints[constraint].name, prob.constraints[constraint].value() - prob.constraints[constraint].constant)\n",
    "        print(prob.constraints[constraint].name, prob.constraints[constraint].value())\n",
    "        print(prob.constraints[constraint].name, prob.constraints[constraint].constant)"
   ]
  },
  {
   "attachments": {
    "image.png": {
     "image/png": "[encoded data removed]"
    }
   },
   "cell_type": "markdown",
   "metadata": {},
   "source": [
    "## Question 6\n",
    "\n",
    "![image.png](attachment:image.png)"
   ]
  },
  {
   "cell_type": "code",
   "execution_count": 11,
   "metadata": {},
   "outputs": [
    {
     "name": "stdout",
     "output_type": "stream",
     "text": [
      "Status: Optimal\n",
      "Cuts_5_5_5_5 = 12.5\n",
      "Cuts_5_5_7 = 0.0\n",
      "Cuts_5_5_9 = 0.0\n",
      "Cuts_5_7_7 = 100.0\n",
      "Cuts_7_9 = 0.0\n",
      "Cuts_9_9 = 150.0\n",
      "Total Rolls Used =  262.5\n",
      "5 0.0\n",
      "5 -150\n",
      "7 0.0\n",
      "7 -200\n",
      "9 0.0\n",
      "9 -300\n"
     ]
    }
   ],
   "source": [
    "#Create a list of all the widths\n",
    "Cuts = [\"5-5-5-5\",\"9-9\",\"5-5-9\",\"5-7-7\",\"7-9\",\"5-5-7\"]\n",
    "\n",
    "#Create a dictionary of width demand\n",
    "Demand = {\"5\":150,\n",
    "        \"7\":200,\n",
    "         \"9\":300}\n",
    "\n",
    "# Create the 'prob' variable to contain the problem data\n",
    "prob = LpProblem(\"Nurses\",LpMinimize)\n",
    "\n",
    "# Create the Variables , aka cut types\n",
    "product_vars = LpVariable.dicts(\"Cuts\",Cuts,lowBound=0,upBound=None,cat=LpContinuous)\n",
    "\n",
    "# The objective function is added to 'prob' first\n",
    "# We are summing up all roll cut options\n",
    "prob += lpSum([product_vars[i] for i in Cuts]), \"Total Rolls Used\"\n",
    "\n",
    "# Constraints\n",
    "# For each cut length, it can come from 3 different rolls. Make sure demand is met by adding roll options\n",
    "prob += lpSum(product_vars[\"5-5-5-5\"]*4 + product_vars[\"5-5-9\"]*2 + product_vars[\"5-7-7\"] + product_vars[\"5-5-7\"]*2) >= Demand[\"5\"] , \"5\"\n",
    "prob += lpSum(product_vars[\"5-7-7\"]*2 + product_vars[\"7-9\"] + product_vars[\"5-5-7\"]) >= Demand[\"7\"] , \"7\"\n",
    "prob += lpSum(product_vars[\"9-9\"]*2 + product_vars[\"7-9\"] + product_vars[\"5-5-9\"]) >= Demand[\"9\"] , \"9\"\n",
    "\n",
    "# The problem data is written to an .lp file\n",
    "prob.writeLP(\"Cuts.lp\")\n",
    "\n",
    "# The problem is solved using PuLP's choice of Solver\n",
    "prob.solve()\n",
    "\n",
    "# The status of the solution is printed to the screen\n",
    "print(\"Status:\", LpStatus[prob.status])\n",
    "\n",
    "# Each of the variables is printed with it's resolved optimum value\n",
    "for v in prob.variables():\n",
    "    print(v.name, \"=\", v.varValue)\n",
    "    \n",
    "# The optimised objective function value is printed to the screen\n",
    "print(\"Total Rolls Used = \", value(prob.objective))\n",
    "\n",
    "for constraint in prob.constraints:\n",
    "        # print(prob.constraints[constraint].name, prob.constraints[constraint].value() - prob.constraints[constraint].constant)\n",
    "        print(prob.constraints[constraint].name, prob.constraints[constraint].value())\n",
    "        print(prob.constraints[constraint].name, prob.constraints[constraint].constant)"
   ]
  },
  {
   "attachments": {
    "image.png": {
     "image/png": "[encoded data removed]"
    }
   },
   "cell_type": "markdown",
   "metadata": {
    "collapsed": true
   },
   "source": [
    "## Question 7\n",
    "![image.png](attachment:image.png)"
   ]
  },
  {
   "cell_type": "code",
   "execution_count": 12,
   "metadata": {},
   "outputs": [
    {
     "name": "stdout",
     "output_type": "stream",
     "text": [
      "Status: Optimal\n",
      "Coal_Supply_M1P1 = 0.0\n",
      "Coal_Supply_M1P2 = 30.0\n",
      "Coal_Supply_M1P3 = 70.0\n",
      "Coal_Supply_M1P4 = 130.0\n",
      "Coal_Supply_M2P1 = 80.0\n",
      "Coal_Supply_M2P2 = 70.0\n",
      "Coal_Supply_M2P3 = 0.0\n",
      "Coal_Supply_M2P4 = 0.0\n",
      "Total Transportation Cost =  8500.0\n",
      "None 0.0\n",
      "None -80\n",
      "None 0.0\n",
      "None -100\n",
      "None 0.0\n",
      "None -70\n",
      "None 0.0\n",
      "None -130\n",
      "None 0.0\n",
      "None -230\n",
      "None 0.0\n",
      "None -150\n"
     ]
    }
   ],
   "source": [
    "# Create decision variables: how much coal goes from each mine to each power plant\n",
    "coal = [\"M1P1\",\"M1P2\",\"M1P3\",\"M1P4\",\"M2P1\",\"M2P2\",\"M2P3\",\"M2P4\"]\n",
    "\n",
    "# Create dictionary of transportation costs\n",
    "costs = {\"M1P1\":65,\"M1P2\":40,\"M1P3\":30,\"M1P4\":15,\"M2P1\":10,\"M2P2\":35,\"M2P3\":40,\"M2P4\":60}\n",
    "\n",
    "#Create problem\n",
    "prob = LpProblem(\"Coal\",LpMinimize)\n",
    "\n",
    "#Create the variables\n",
    "coal_vars = LpVariable.dicts(\"Coal_Supply\",coal,lowBound=0,upBound=None,cat=LpContinuous)\n",
    "\n",
    "#Create objective function: transportation costs\n",
    "prob += lpSum([coal_vars[i]*costs[i] for i in coal]), \"Total Cost\"\n",
    "\n",
    "#Create power plant requirement constraints\n",
    "prob += coal_vars[\"M1P1\"] + coal_vars[\"M2P1\"] >= 80\n",
    "prob += coal_vars[\"M1P2\"] + coal_vars[\"M2P2\"] >= 100\n",
    "prob += coal_vars[\"M1P3\"] + coal_vars[\"M2P3\"] >= 70\n",
    "prob += coal_vars[\"M1P4\"] + coal_vars[\"M2P4\"] >= 130\n",
    "\n",
    "#Create coal mine capacity constraints\n",
    "prob += coal_vars[\"M1P1\"] + coal_vars[\"M1P2\"] + coal_vars[\"M1P3\"] + coal_vars[\"M1P4\"] <= 230\n",
    "prob += coal_vars[\"M2P1\"] + coal_vars[\"M2P2\"] + coal_vars[\"M2P3\"] + coal_vars[\"M2P4\"] <= 150\n",
    "\n",
    "#The problem data is writen to a .lp file\n",
    "prob.writeLP(\"caol.lp\")\n",
    "\n",
    "# The problem is solved using PuLP's choice of Solver\n",
    "prob.solve()\n",
    "\n",
    "# The status of the solution is printed to the screen\n",
    "print(\"Status:\", LpStatus[prob.status])\n",
    "\n",
    "\n",
    "# Each of the variables is printed with it's resolved optimum value\n",
    "for v in prob.variables():\n",
    "    print(v.name, \"=\", v.varValue)\n",
    "    \n",
    "# The optimised objective function value is printed to the screen\n",
    "print(\"Total Transportation Cost = \", value(prob.objective))\n",
    "\n",
    "for constraint in prob.constraints:\n",
    "        # print(prob.constraints[constraint].name, prob.constraints[constraint].value() - prob.constraints[constraint].constant)\n",
    "        print(prob.constraints[constraint].name, prob.constraints[constraint].value())\n",
    "        print(prob.constraints[constraint].name, prob.constraints[constraint].constant)"
   ]
  },
  {
   "attachments": {
    "image.png": {
     "image/png": "[encoded data removed]"
    }
   },
   "cell_type": "markdown",
   "metadata": {
    "collapsed": true
   },
   "source": [
    "## Question 8\n",
    "![image.png](attachment:image.png)"
   ]
  },
  {
   "cell_type": "markdown",
   "metadata": {},
   "source": [
    "### Optimal"
   ]
  },
  {
   "cell_type": "code",
   "execution_count": 13,
   "metadata": {},
   "outputs": [
    {
     "name": "stdout",
     "output_type": "stream",
     "text": [
      "Status: Optimal\n",
      "The Total profit obtained is: 284.0\n",
      "The decision variable matrix is:\n",
      "[[0 0 0 1 0 0 0 0 0 0]\n",
      " [0 0 0 0 0 0 0 0 0 1]\n",
      " [0 0 0 0 1 0 0 0 0 0]\n",
      " [0 0 1 0 0 0 0 0 0 0]\n",
      " [0 0 0 0 0 1 0 0 0 0]\n",
      " [1 0 0 0 0 0 0 0 0 0]\n",
      " [0 1 0 0 0 0 0 0 0 0]\n",
      " [0 0 0 0 0 0 1 0 0 0]\n",
      " [0 0 0 0 0 0 0 1 0 0]\n",
      " [0 0 0 0 0 0 0 0 1 0]]\n"
     ]
    }
   ],
   "source": [
    "import pandas as pd\n",
    "import numpy as np\n",
    "from pulp import *\n",
    "\n",
    "import math\n",
    "from math import isnan\n",
    "\n",
    "ProdPrices = pd.read_csv('Q8.csv').iloc[:,1:]\n",
    "lift = np.array(ProdPrices)\n",
    "lift.astype(np.int)\n",
    "lift\n",
    "\n",
    "#define the optimization function\n",
    "prob=LpProblem(\"ProdSlot\",LpMaximize)\n",
    "\n",
    "#define decision variables\n",
    "dec_var=LpVariable.matrix(\"dec_var\",(range(len(lift)),range(len(lift[0]))),0,1,LpBinary)\n",
    "\n",
    "#Compute the sum product of decision variables and lifts\n",
    "prodt_matrix=[dec_var[i][j]*lift[i][j]\n",
    "              for i in range(len(lift))\n",
    "              for j in range(len(lift[0]))]\n",
    "\n",
    "\n",
    "#total lift which has to be maximized sum(prodt_matrix)\n",
    "#define the objective function\n",
    "prob+=lpSum(prodt_matrix)\n",
    "\n",
    "#DEFINE CONSTRAINTS\n",
    "#1) Each shelf can have only one product i.e. sum (each row)<=1\n",
    "for i in range(len(lift)):\n",
    "    prob+=lpSum(dec_var[i])<=1\n",
    "    \n",
    "#2) Each product can be displayed only once i.e. Column constraints\n",
    "#Constraints are given as\n",
    "dec_var=np.array(dec_var)\n",
    "col_data=[]\n",
    "for j in range(len(lift[0])):\n",
    "    col_data.append(list(zip(*dec_var))[j])\n",
    "    prob+=lpSum(col_data[j])<=1\n",
    "\n",
    "#write the problem\n",
    "\n",
    "prob.writeLP(\"ProdSlot.lp\")\n",
    "\n",
    "#solve the problem\n",
    "\n",
    "prob.solve()\n",
    "\n",
    "# The status of the solution is printed to the screen\n",
    "print(\"Status:\", LpStatus[prob.status])\n",
    "\n",
    "# print the output\n",
    "print(\"The Total profit obtained is:\",value(prob.objective)) \n",
    "\n",
    "#print the decision variable output matrix\n",
    "\n",
    "Matrix=[[0 for X in range(len(lift[0]))] for y in range(len(lift))]\n",
    "\n",
    "for v in prob.variables():\n",
    "\n",
    "    Matrix[int(v.name.split(\"_\")[2])][int(v.name.split(\"_\")[3])]=v.varValue\n",
    "\n",
    "    matrix=np.int_(Matrix)\n",
    "\n",
    "print (\"The decision variable matrix is:\")\n",
    "print(matrix)"
   ]
  },
  {
   "cell_type": "markdown",
   "metadata": {},
   "source": [
    "#### Once you have your model built, determine what the absolute worse slotting would be.  What is the business value for calculating this?"
   ]
  },
  {
   "cell_type": "code",
   "execution_count": 14,
   "metadata": {},
   "outputs": [
    {
     "name": "stdout",
     "output_type": "stream",
     "text": [
      "The absolute worse slotting decision variable matrix is:\n",
      "[[1 0 0 0 0 0 0 0 0 0]\n",
      " [0 1 0 0 0 0 0 0 0 0]\n",
      " [0 0 1 0 0 0 0 0 0 0]\n",
      " [0 0 0 1 0 0 0 0 0 0]\n",
      " [0 0 0 0 1 0 0 0 0 0]\n",
      " [0 0 0 0 0 1 0 0 0 0]\n",
      " [0 0 0 0 0 0 1 0 0 0]\n",
      " [0 0 0 0 0 0 0 1 0 0]\n",
      " [0 0 0 0 0 0 0 0 1 0]\n",
      " [0 0 0 0 0 0 0 0 0 1]]\n",
      "The total profit obtained is: 221\n"
     ]
    }
   ],
   "source": [
    "a = np.zeros(shape=[10,10], dtype=int)\n",
    "np.fill_diagonal(a, 1)\n",
    "print (\"The absolute worse slotting decision variable matrix is:\")\n",
    "print(a)\n",
    "prodt_matrix2=[a[i][j]*lift[i][j]\n",
    "              for i in range(len(lift))\n",
    "              for j in range(len(lift[0]))]\n",
    "\n",
    "# print the output\n",
    "print(\"The total profit obtained is:\",sum(prodt_matrix2)) "
   ]
  },
  {
   "cell_type": "markdown",
   "metadata": {},
   "source": [
    "## Question 9\n",
    "Simplified Berlin Airlift Model.  \n",
    "\n",
    "Do the problem in the Berlin Airlift PDF.  Note, that you need to make a few modifications.  \n",
    "\n",
    "(For some reason, this problem did not do a good job of keeping track of time periods).\n",
    "\n",
    "You need to modify:\n",
    "•\tAssume that each plane can make 21 trips per week\n",
    "•\tAssume that the total weekly budget is $7,000,000\n",
    "\n",
    "Instead of the directions they give for solving the problem, do this:\n",
    "•\tSet up the model in Excel (you should at least try this in Excel and if you like try it in Python too) and solve with OpenSolver\n",
    "•\tWhat if the budget was $5,000,000, what is the solution?  What is wrong with the solution?  What are at least two ways to resolve this problem?"
   ]
  },
  {
   "cell_type": "code",
   "execution_count": null,
   "metadata": {},
   "outputs": [],
   "source": []
  },
  {
   "cell_type": "markdown",
   "metadata": {},
   "source": [
    "## Question 10\n",
    "You are working for a distributor of vegetables.  You can see the data on the vegetables in the spreadsheet.  You have the price that you purchase, the price you sell, and the minimum quantity you have to sell (by contract), the max you can sell (the most the market will bear), and the cubic feet per carton.   In your business you receive cases of vegetables from your suppliers at the start of the week.  Your warehouse only has room for 18,000 cubic feet of product.  And, your supplier only allows you to purchase up to $30,000 of product per week.  "
   ]
  },
  {
   "cell_type": "markdown",
   "metadata": {},
   "source": [
    "#### a.\tSet this up and solve as a linear program"
   ]
  },
  {
   "cell_type": "code",
   "execution_count": 17,
   "metadata": {},
   "outputs": [],
   "source": [
    "import pandas as pd\n",
    "import numpy as np\n",
    "Q10 = pd.read_csv(\"Q10.csv\",sep='\\t')\n",
    "Products = list(Q10['Vegtable'])\n",
    "Q10 = Q10.set_index('Vegtable')\n",
    "Costs = Q10['Cost'].to_dict()\n",
    "Prices = Q10['Price'].to_dict()\n",
    "MinQ = Q10['Min'].to_dict()\n",
    "MaxQ = Q10['Max'].to_dict()\n",
    "Cubic = Q10['Cubic Feet Per Carton'].to_dict()"
   ]
  },
  {
   "cell_type": "code",
   "execution_count": 22,
   "metadata": {},
   "outputs": [
    {
     "name": "stdout",
     "output_type": "stream",
     "text": [
      "Status: Optimal\n",
      "Prods_Artichokes = 0.0\n",
      "Prods_Black_eyd_Peas = 900.0\n",
      "Prods_Broccoli = 400.0\n",
      "Prods_Brussel_sprouts = 100.0\n",
      "Prods_Carrots = 1200.0\n",
      "Prods_Cauliflower = 100.0\n",
      "Prods_Creamed_Corn = 2000.0\n",
      "Prods_Green_Beans = 3200.0\n",
      "Prods_Green_Peas = 750.0\n",
      "Prods_Lima_beans = 2150.0\n",
      "Prods_Okra = 150.0\n",
      "Prods_Spinach = 400.0\n",
      "Prods_Squash = 100.0\n",
      "Prods_Succotash = 200.0\n",
      "Prods_Whipped_Potatoes = 300.0\n",
      "Total Profit of Plan =  33274.267\n",
      "None 0.0\n",
      "None -300\n",
      "None -1200.0\n",
      "None -1500\n",
      "None 1600.0\n",
      "None -400\n",
      "None 0.0\n",
      "None -2000\n",
      "None 650.0\n",
      "None -250\n",
      "None 0.0\n",
      "None -900\n",
      "None 0.0\n",
      "None 0\n",
      "None -150.0\n",
      "None -150\n",
      "None 900.0\n",
      "None -300\n",
      "None 0.0\n",
      "None -1200\n",
      "None 0.0\n",
      "None -200\n",
      "None -600.0\n",
      "None -800\n",
      "None 0.0\n",
      "None -150\n",
      "None -450.0\n",
      "None -600\n",
      "None 0.0\n",
      "None -100\n",
      "None -200.0\n",
      "None -300\n",
      "None 0.0\n",
      "None -750\n",
      "None -2750.0\n",
      "None -3500\n",
      "None 0.0\n",
      "None -400\n",
      "None -1600.0\n",
      "None -2000\n",
      "None 1650.0\n",
      "None -500\n",
      "None -1150.0\n",
      "None -3300\n",
      "None 0.0\n",
      "None -100\n",
      "None -400.0\n",
      "None -500\n",
      "None 2700.0\n",
      "None -500\n",
      "None 0.0\n",
      "None -3200\n",
      "None 0.0\n",
      "None -100\n",
      "None -400.0\n",
      "None -500\n",
      "None 0.0\n",
      "None -400\n",
      "None -2100.0\n",
      "None -2500\n",
      "None -3062.5\n",
      "None -18000.0\n",
      "None 0.0\n",
      "None -30000.0\n"
     ]
    }
   ],
   "source": [
    "# Create the 'prob' variable to contain the problem data\n",
    "prob = LpProblem(\"Veg Profit\",LpMaximize)\n",
    "\n",
    "# Create the Variables\n",
    "product_vars = LpVariable.dicts(\"Prods\",Products,lowBound=0,upBound=None,cat=LpContinuous)\n",
    "\n",
    "# The objective function is added to 'prob' first\n",
    "prob += lpSum([Prices[i]*product_vars[i] - Prices[i]*Costs[i] for i in Products]), \"Total Profit of Plan\"\n",
    "\n",
    "# We can enter the constraints that relate to limited amount of material\n",
    "for i in Products:\n",
    "    prob += product_vars[i] >= MinQ[i]\n",
    "    prob += product_vars[i] <= MaxQ[i]\n",
    "\n",
    "# Additional constraints\n",
    "prob += lpSum([product_vars[i]*1.25 for i in Products]) <= 18000\n",
    "prob += lpSum([product_vars[i]*Costs[i] for i in Products]) <= 30000\n",
    "\n",
    "# The problem data is written to an .lp file\n",
    "prob.writeLP(\"VegProfit.lp\")\n",
    "\n",
    "# The problem is solved using PuLP's choice of Solver\n",
    "prob.solve()\n",
    "\n",
    "# The status of the solution is printed to the screen\n",
    "print(\"Status:\", LpStatus[prob.status])\n",
    "\n",
    "# Each of the variables is printed with it's resolved optimum value\n",
    "for v in prob.variables():\n",
    "    print(v.name, \"=\", v.varValue)\n",
    "    \n",
    "# The optimised objective function value is printed to the screen\n",
    "print(\"Total Profit of Plan = \", value(prob.objective))\n",
    "\n",
    "for constraint in prob.constraints:\n",
    "        # print(prob.constraints[constraint].name, prob.constraints[constraint].value() - prob.constraints[constraint].constant)\n",
    "        print(prob.constraints[constraint].name, prob.constraints[constraint].value())\n",
    "        print(prob.constraints[constraint].name, prob.constraints[constraint].constant)"
   ]
  },
  {
   "cell_type": "code",
   "execution_count": 20,
   "metadata": {},
   "outputs": [
    {
     "data": {
      "text/plain": [
       "{'Artichokes': Prods_Artichokes,\n",
       " 'Black-eyd Peas': Prods_Black_eyd_Peas,\n",
       " 'Broccoli': Prods_Broccoli,\n",
       " 'Brussel sprouts': Prods_Brussel_sprouts,\n",
       " 'Carrots': Prods_Carrots,\n",
       " 'Cauliflower': Prods_Cauliflower,\n",
       " 'Creamed Corn': Prods_Creamed_Corn,\n",
       " 'Green Beans': Prods_Green_Beans,\n",
       " 'Green Peas': Prods_Green_Peas,\n",
       " 'Lima beans': Prods_Lima_beans,\n",
       " 'Okra': Prods_Okra,\n",
       " 'Spinach': Prods_Spinach,\n",
       " 'Squash': Prods_Squash,\n",
       " 'Succotash': Prods_Succotash,\n",
       " 'Whipped Potatoes': Prods_Whipped_Potatoes}"
      ]
     },
     "execution_count": 20,
     "metadata": {},
     "output_type": "execute_result"
    }
   ],
   "source": [
    "product_vars"
   ]
  },
  {
   "cell_type": "markdown",
   "metadata": {},
   "source": [
    "#### b.\tWhat insights do you get from the solution."
   ]
  },
  {
   "cell_type": "code",
   "execution_count": null,
   "metadata": {},
   "outputs": [],
   "source": []
  }
 ],
 "metadata": {
  "kernelspec": {
   "display_name": "Python 3",
   "language": "python",
   "name": "python3"
  },
  "language_info": {
   "codemirror_mode": {
    "name": "ipython",
    "version": 3
   },
   "file_extension": ".py",
   "mimetype": "text/x-python",
   "name": "python",
   "nbconvert_exporter": "python",
   "pygments_lexer": "ipython3",
   "version": "3.6.4"
  }
 },
 "nbformat": 4,
 "nbformat_minor": 2
}
